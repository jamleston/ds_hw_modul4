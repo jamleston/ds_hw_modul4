{
 "cells": [
  {
   "cell_type": "code",
   "execution_count": 2,
   "metadata": {},
   "outputs": [],
   "source": [
    "import numpy as np"
   ]
  },
  {
   "cell_type": "code",
   "execution_count": 11,
   "metadata": {},
   "outputs": [
    {
     "name": "stdout",
     "output_type": "stream",
     "text": [
      "[0 1 2 3 4 5 6 7 8 9]\n"
     ]
    }
   ],
   "source": [
    "a = np.arange(10)\n",
    "print(a)"
   ]
  },
  {
   "cell_type": "code",
   "execution_count": 12,
   "metadata": {},
   "outputs": [
    {
     "name": "stdout",
     "output_type": "stream",
     "text": [
      "[[0 0 0]\n",
      " [0 0 0]\n",
      " [0 0 0]]\n"
     ]
    }
   ],
   "source": [
    "m = np.zeros((3, 3), dtype=int)\n",
    "print(m)"
   ]
  },
  {
   "cell_type": "code",
   "execution_count": 17,
   "metadata": {},
   "outputs": [
    {
     "name": "stdout",
     "output_type": "stream",
     "text": [
      "[[2 9 1 0 8]\n",
      " [4 7 4 1 8]\n",
      " [4 9 5 4 4]\n",
      " [5 6 6 1 4]\n",
      " [6 8 3 3 8]]\n"
     ]
    }
   ],
   "source": [
    "b = np.random.randint(0, 10, (5,5))\n",
    "print(b)"
   ]
  },
  {
   "cell_type": "code",
   "execution_count": 21,
   "metadata": {},
   "outputs": [
    {
     "name": "stdout",
     "output_type": "stream",
     "text": [
      "[[0.20203671 0.86156426 0.37587689 0.16367835]\n",
      " [0.46881389 0.1117205  0.63020764 0.261263  ]\n",
      " [0.92002252 0.62063341 0.24974216 0.13095503]\n",
      " [0.40148066 0.64024108 0.06791147 0.59949235]]\n"
     ]
    }
   ],
   "source": [
    "b = np.random.random((4,4))\n",
    "print(b)"
   ]
  },
  {
   "cell_type": "code",
   "execution_count": 28,
   "metadata": {},
   "outputs": [
    {
     "name": "stdout",
     "output_type": "stream",
     "text": [
      "[8 0 7 4 9]\n",
      "[9 5 3 0 8]\n",
      "[17  5 10  4 17]\n",
      "[-1 -5  4  4  1]\n",
      "[72  0 21  0 72]\n"
     ]
    }
   ],
   "source": [
    "a = np.random.randint(0, 10, (5))\n",
    "b = np.random.randint(0, 10, (5))\n",
    "print(a)\n",
    "print(b)\n",
    "print(a+b)\n",
    "print(a-b)\n",
    "print(a*b)"
   ]
  },
  {
   "cell_type": "code",
   "execution_count": 29,
   "metadata": {},
   "outputs": [
    {
     "name": "stdout",
     "output_type": "stream",
     "text": [
      "[1 5 2 2 1]\n",
      "[2 1 0 0 9]\n",
      "16\n"
     ]
    }
   ],
   "source": [
    "a = np.random.randint(0, 10, (5))\n",
    "b = np.random.randint(0, 10, (5))\n",
    "print(a)\n",
    "print(b)\n",
    "print(np.dot(a, b))"
   ]
  },
  {
   "cell_type": "code",
   "execution_count": 37,
   "metadata": {},
   "outputs": [
    {
     "name": "stdout",
     "output_type": "stream",
     "text": [
      "[[8 6]\n",
      " [3 4]]\n",
      "[[5 1 7]\n",
      " [1 7 3]]\n",
      "[[46 50 74]\n",
      " [19 31 33]]\n"
     ]
    }
   ],
   "source": [
    "a = np.random.randint(1, 10, (2,2))\n",
    "b = np.random.randint(1, 10, (2,3))\n",
    "print(a)\n",
    "print(b)\n",
    "print(np.dot(a, b))"
   ]
  },
  {
   "cell_type": "code",
   "execution_count": 4,
   "metadata": {},
   "outputs": [
    {
     "name": "stdout",
     "output_type": "stream",
     "text": [
      "[[1 6 5]\n",
      " [4 9 4]\n",
      " [8 3 4]]\n",
      "[[-0.13333333  0.05        0.11666667]\n",
      " [-0.08888889  0.2        -0.08888889]\n",
      " [ 0.33333333 -0.25        0.08333333]]\n"
     ]
    }
   ],
   "source": [
    "a = np.random.randint(1, 10, (3,3))\n",
    "a_inv = np.linalg.inv(a)\n",
    "print(a)\n",
    "print(a_inv)"
   ]
  },
  {
   "cell_type": "code",
   "execution_count": 42,
   "metadata": {},
   "outputs": [
    {
     "name": "stdout",
     "output_type": "stream",
     "text": [
      "[[0.31722266 0.37151881 0.94608787 0.92649928]\n",
      " [0.45370411 0.91081812 0.48154176 0.97745834]\n",
      " [0.29725768 0.41694006 0.92627127 0.74491259]\n",
      " [0.31605041 0.08879427 0.62574264 0.63436383]]\n",
      "[[0.31722266 0.45370411 0.29725768 0.31605041]\n",
      " [0.37151881 0.91081812 0.41694006 0.08879427]\n",
      " [0.94608787 0.48154176 0.92627127 0.62574264]\n",
      " [0.92649928 0.97745834 0.74491259 0.63436383]]\n"
     ]
    }
   ],
   "source": [
    "a = np.random.random((4,4))\n",
    "b = a.T\n",
    "print(a)\n",
    "print(b)"
   ]
  },
  {
   "cell_type": "code",
   "execution_count": 9,
   "metadata": {},
   "outputs": [
    {
     "name": "stdout",
     "output_type": "stream",
     "text": [
      "[[4 3 2 2]\n",
      " [3 8 1 7]\n",
      " [6 5 9 3]]\n",
      "[9 7 1 2]\n",
      "[ 63  98 104]\n"
     ]
    }
   ],
   "source": [
    "a = np.random.randint(1, 10, (3,4))\n",
    "b = np.random.randint(1, 10, (4))\n",
    "print(a)\n",
    "print(b)\n",
    "print(np.dot(a, b))"
   ]
  },
  {
   "cell_type": "code",
   "execution_count": 10,
   "metadata": {},
   "outputs": [
    {
     "name": "stdout",
     "output_type": "stream",
     "text": [
      "[[0.88284171 0.58815617 0.19682629]\n",
      " [0.51019372 0.04786637 0.1807902 ]]\n",
      "[0.03537849 0.23900671 0.84658045]\n",
      "[0.33843616 0.18254371]\n"
     ]
    }
   ],
   "source": [
    "a = np.random.random((2,3))\n",
    "b = np.random.random((3))\n",
    "print(a)\n",
    "print(b)\n",
    "print(np.dot(a, b))"
   ]
  },
  {
   "cell_type": "code",
   "execution_count": 11,
   "metadata": {},
   "outputs": [
    {
     "name": "stdout",
     "output_type": "stream",
     "text": [
      "[[2 7]\n",
      " [4 7]]\n",
      "[[2 5]\n",
      " [9 4]]\n",
      "[[ 4 35]\n",
      " [36 28]]\n"
     ]
    }
   ],
   "source": [
    "a = np.random.randint(1, 10, (2,2))\n",
    "b = np.random.randint(1, 10, (2,2))\n",
    "print(a)\n",
    "print(b)\n",
    "print(a*b)"
   ]
  },
  {
   "cell_type": "code",
   "execution_count": 12,
   "metadata": {},
   "outputs": [
    {
     "name": "stdout",
     "output_type": "stream",
     "text": [
      "[[5 1]\n",
      " [3 1]]\n",
      "[[5 3]\n",
      " [6 5]]\n",
      "[[10  4]\n",
      " [ 9  6]]\n"
     ]
    }
   ],
   "source": [
    "a = np.random.randint(1, 10, (2,2))\n",
    "b = np.random.randint(1, 10, (2,2))\n",
    "print(a)\n",
    "print(b)\n",
    "print(a+b)"
   ]
  },
  {
   "cell_type": "code",
   "execution_count": 14,
   "metadata": {},
   "outputs": [
    {
     "name": "stdout",
     "output_type": "stream",
     "text": [
      "[[63 61  2 87 30]\n",
      " [88  2 10 95 18]\n",
      " [40 45 96 96 22]\n",
      " [27 14 47 97 89]\n",
      " [69 50 37 35 20]]\n",
      "1240\n"
     ]
    }
   ],
   "source": [
    "a = np.random.randint(1, 100, (5,5))\n",
    "print(a)\n",
    "print(a.sum())"
   ]
  },
  {
   "cell_type": "code",
   "execution_count": 17,
   "metadata": {},
   "outputs": [
    {
     "name": "stdout",
     "output_type": "stream",
     "text": [
      "24\n"
     ]
    }
   ],
   "source": [
    "a = np.random.randint(1, 10, (4,4))\n",
    "b = np.random.randint(1, 10, (4,4))\n",
    "sum_a = a.sum()\n",
    "sum_b = b.sum()\n",
    "print(sum_a-sum_b)"
   ]
  },
  {
   "cell_type": "code",
   "execution_count": 22,
   "metadata": {},
   "outputs": [
    {
     "name": "stdout",
     "output_type": "stream",
     "text": [
      "[[0.79939835 0.64270816 0.04618123]\n",
      " [0.17539129 0.80829324 0.17389852]\n",
      " [0.35904676 0.56191145 0.39014713]]\n",
      "[[1.48828775]\n",
      " [1.15758305]\n",
      " [1.31110534]]\n"
     ]
    }
   ],
   "source": [
    "a = np.random.random((3,3))\n",
    "print(a)\n",
    "vector = a.sum(axis=1).reshape(3,1)\n",
    "print(vector)"
   ]
  },
  {
   "cell_type": "code",
   "execution_count": 40,
   "metadata": {},
   "outputs": [
    {
     "name": "stdout",
     "output_type": "stream",
     "text": [
      "[[7 2 3 9]\n",
      " [5 2 8 6]\n",
      " [4 8 2 4]]\n",
      "[[49  4  9 81]\n",
      " [25  4 64 36]\n",
      " [16 64  4 16]]\n",
      "[[49  4  9 81]\n",
      " [25  4 64 36]\n",
      " [16 64  4 16]]\n"
     ]
    }
   ],
   "source": [
    "a = np.random.randint(1,10, size=(3,4))\n",
    "square = a*a\n",
    "square2 = np.square(a)\n",
    "print(a)\n",
    "print(square)\n",
    "print(square2)"
   ]
  },
  {
   "cell_type": "code",
   "execution_count": 39,
   "metadata": {},
   "outputs": [
    {
     "name": "stdout",
     "output_type": "stream",
     "text": [
      "[46 38 36  3]\n",
      "[6.78232998 6.164414   6.         1.73205081]\n"
     ]
    }
   ],
   "source": [
    "a = np.random.randint(1, 50, (4))\n",
    "b = np.sqrt(a)\n",
    "print(a)\n",
    "print(b)"
   ]
  }
 ],
 "metadata": {
  "kernelspec": {
   "display_name": "base",
   "language": "python",
   "name": "python3"
  },
  "language_info": {
   "codemirror_mode": {
    "name": "ipython",
    "version": 3
   },
   "file_extension": ".py",
   "mimetype": "text/x-python",
   "name": "python",
   "nbconvert_exporter": "python",
   "pygments_lexer": "ipython3",
   "version": "3.12.4"
  }
 },
 "nbformat": 4,
 "nbformat_minor": 2
}
